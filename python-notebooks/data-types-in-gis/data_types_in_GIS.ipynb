{
 "cells": [
  {
   "cell_type": "markdown",
   "metadata": {},
   "source": [
    "## Data Types in GIS - Essentials of GIS Chapter 5 "
   ]
  },
  {
   "cell_type": "markdown",
   "metadata": {},
   "source": [
    "#### Run this cell to connect to your GIS and get started:"
   ]
  },
  {
   "cell_type": "code",
   "execution_count": 7,
   "metadata": {},
   "outputs": [],
   "source": [
    "from arcgis.gis import GIS\n",
    "import pandas as pd\n",
    "gis = GIS(\"home\")"
   ]
  },
  {
   "cell_type": "markdown",
   "metadata": {},
   "source": [
    "#### 1. Introduction"
   ]
  },
  {
   "cell_type": "markdown",
   "metadata": {},
   "source": [
    "In programming and GIS, data types are essential because they define the type of information a variable can hold. Understanding data types helps ensure data consistency, accuracy, and allows for specific operations on the data. Let's delve into some of the basic data types in Python, the language of GIS software."
   ]
  },
  {
   "cell_type": "markdown",
   "metadata": {},
   "source": [
    "#### 2. String data type"
   ]
  },
  {
   "cell_type": "markdown",
   "metadata": {},
   "source": [
    "**Description:** A string is a sequence of characters. In Python, strings are enclosed within single (' ') or double (\" \") quotes. They can contain letters, numbers, and special characters."
   ]
  },
  {
   "cell_type": "code",
   "execution_count": 8,
   "metadata": {},
   "outputs": [
    {
     "name": "stdout",
     "output_type": "stream",
     "text": [
      "City Name: San Francisco\n",
      "Data Type: <class 'str'>\n"
     ]
    }
   ],
   "source": [
    "city_name = \"San Francisco\"\n",
    "print(\"City Name:\", city_name)\n",
    "print(\"Data Type:\", type(city_name))"
   ]
  },
  {
   "cell_type": "markdown",
   "metadata": {},
   "source": [
    "#### 3. Floating-point (float) data type "
   ]
  },
  {
   "cell_type": "markdown",
   "metadata": {},
   "source": [
    "**Description:** Floating-point numbers (often just called \"floats\") represent real numbers and are written with a decimal point. They can be used to represent fractional values."
   ]
  },
  {
   "cell_type": "code",
   "execution_count": 11,
   "metadata": {},
   "outputs": [
    {
     "name": "stdout",
     "output_type": "stream",
     "text": [
      "Latitude: 37.7749\n",
      "Data Type: <class 'float'>\n"
     ]
    }
   ],
   "source": [
    "latitude = 37.7749\n",
    "print(\"Latitude:\", latitude)\n",
    "print(\"Data Type:\", type(latitude))"
   ]
  },
  {
   "cell_type": "markdown",
   "metadata": {},
   "source": [
    "#### 4. Integer data type"
   ]
  },
  {
   "cell_type": "markdown",
   "metadata": {},
   "source": [
    "**Description:** An integer is a whole number, without any fractional part. It can be positive, negative, or zero."
   ]
  },
  {
   "cell_type": "code",
   "execution_count": 12,
   "metadata": {},
   "outputs": [
    {
     "name": "stdout",
     "output_type": "stream",
     "text": [
      "Population: 883305\n",
      "Data Type: <class 'int'>\n"
     ]
    }
   ],
   "source": [
    "population = 883305\n",
    "print(\"Population:\", population)\n",
    "print(\"Data Type:\", type(population))"
   ]
  },
  {
   "cell_type": "markdown",
   "metadata": {},
   "source": [
    "#### 5. Boolean data type"
   ]
  },
  {
   "cell_type": "markdown",
   "metadata": {},
   "source": [
    "**Description:** The boolean data type can have one of two values, True or False. It's often used to represent the truth value of an expression."
   ]
  },
  {
   "cell_type": "code",
   "execution_count": 13,
   "metadata": {},
   "outputs": [
    {
     "name": "stdout",
     "output_type": "stream",
     "text": [
      "Is the city coastal? True\n",
      "Data Type: <class 'bool'>\n"
     ]
    }
   ],
   "source": [
    "is_coastal = True\n",
    "print(\"Is the city coastal?\", is_coastal)\n",
    "print(\"Data Type:\", type(is_coastal))"
   ]
  },
  {
   "cell_type": "markdown",
   "metadata": {},
   "source": [
    "#### 6. Date data type"
   ]
  },
  {
   "cell_type": "markdown",
   "metadata": {},
   "source": [
    "**Description:** The date data type represents a specific day, month, and year. In Python, the datetime module provides the date class to handle date values. Dates are essential in GIS for time-series analyses, tracking changes over time, or understanding temporal patterns."
   ]
  },
  {
   "cell_type": "code",
   "execution_count": 17,
   "metadata": {},
   "outputs": [
    {
     "name": "stdout",
     "output_type": "stream",
     "text": [
      "Established Date: 1850-04-15\n",
      "Data Type: <class 'datetime.date'>\n"
     ]
    }
   ],
   "source": [
    "from datetime import date\n",
    "\n",
    "established_date = date(1850, 4, 15) # Representing April 15, 1850\n",
    "print(\"Established Date:\", established_date) # This line of code prints the date I specified in the above variable \"established_date\"\n",
    "print(\"Data Type:\", type(established_date))"
   ]
  },
  {
   "cell_type": "markdown",
   "metadata": {},
   "source": [
    "**Date Representation in Spreadsheet Programs (e.g., Excel)**\n",
    "\n",
    "Spreadsheet programs, like Excel, have a unique approach to storing and representing dates. At its core, Excel represents dates as serial numbers:\n",
    "\n",
    "Serial Numbers: In Excel, dates are stored as sequential serial numbers so that they can be used in calculations. Essentially, each date is an integer value representing the number of days since a starting date, known as the \"epoch\" or \"base date.\"\n",
    "\n",
    "For Excel (in its default configuration), the base date is January 1, 1900. This means that January 1, 1900, is serial number 1, January 2, 1900, is serial number 2, and so on.\n",
    "\n",
    "This system allows for easy arithmetic with dates. For example, subtracting two date serial numbers gives the number of days between those two dates.\n",
    "Display Formats: While the underlying value of a date in Excel is a serial number, Excel can display the date in various formats, such as \"MM/DD/YYYY\" or \"DD-MM-YYYY\". This display format does not change the actual stored value; it merely affects how the date appears in the spreadsheet.\n",
    "\n",
    "Time Representation: Excel also represents time using fractions of a day. For instance, 0.5 represents noon since it's halfway through the day. So, the serial number 1.5 would correspond to noon on January 1, 1900.\n",
    "\n",
    "Leap Years: Excel considers 1900 as a leap year for compatibility reasons with other spreadsheet programs, even though it wasn't a leap year. This means that February 29, 1900, is represented in Excel, although it didn't exist in reality.\n",
    "\n",
    "Limitations & Considerations: Due to this serial number system, Excel has limits on the range of dates it can represent. Typically, Excel can represent dates from January 1, 1900, through December 31, 9999. However, it's essential to be cautious when performing date arithmetic in Excel, especially when working with historical datasets that might include dates earlier than 1900.\n",
    "\n",
    "This method of date representation is common among spreadsheet programs because it allows for straightforward date calculations and flexibility in date display formats. However, GIS professionals and other data analysts need to be aware of this system's intricacies when importing dates from Excel into GIS or other software platforms."
   ]
  },
  {
   "cell_type": "markdown",
   "metadata": {},
   "source": [
    "#### Hey, remember attribute measurement scales?"
   ]
  },
  {
   "cell_type": "code",
   "execution_count": 1,
   "metadata": {},
   "outputs": [
    {
     "data": {
      "application/vnd.jupyter.widget-view+json": {
       "model_id": "b1f5c299d8d542d897cb2e55fba04df1",
       "version_major": 2,
       "version_minor": 0
      },
      "text/plain": [
       "Dropdown(description='String:', options=('', 'Nominal', 'Ordinal', 'Interval and Ratio', 'Cyclic'), value='')"
      ]
     },
     "metadata": {},
     "output_type": "display_data"
    },
    {
     "data": {
      "application/vnd.jupyter.widget-view+json": {
       "model_id": "42c617a58c5546fda236b82056b6bf73",
       "version_major": 2,
       "version_minor": 0
      },
      "text/plain": [
       "Dropdown(description='Integer:', options=('', 'Nominal', 'Ordinal', 'Interval and Ratio', 'Cyclic'), value='')"
      ]
     },
     "metadata": {},
     "output_type": "display_data"
    },
    {
     "data": {
      "application/vnd.jupyter.widget-view+json": {
       "model_id": "5e520f5d4bdb4cd2a0d5210994f6d766",
       "version_major": 2,
       "version_minor": 0
      },
      "text/plain": [
       "Dropdown(description='Float:', options=('', 'Nominal', 'Ordinal', 'Interval and Ratio', 'Cyclic'), value='')"
      ]
     },
     "metadata": {},
     "output_type": "display_data"
    },
    {
     "data": {
      "application/vnd.jupyter.widget-view+json": {
       "model_id": "24675c8dbb534a9b9f2fc48632c88e74",
       "version_major": 2,
       "version_minor": 0
      },
      "text/plain": [
       "Dropdown(description='Boolean:', options=('', 'Nominal', 'Ordinal', 'Interval and Ratio', 'Cyclic'), value='')"
      ]
     },
     "metadata": {},
     "output_type": "display_data"
    },
    {
     "data": {
      "application/vnd.jupyter.widget-view+json": {
       "model_id": "375f216f460749dd923eabd9837e98ee",
       "version_major": 2,
       "version_minor": 0
      },
      "text/plain": [
       "Dropdown(description='Date', options=('', 'Nominal', 'Ordinal', 'Interval and Ratio', 'Cyclic'), value='')"
      ]
     },
     "metadata": {},
     "output_type": "display_data"
    },
    {
     "data": {
      "application/vnd.jupyter.widget-view+json": {
       "model_id": "1262bc9e962045a792d78d10916ea47a",
       "version_major": 2,
       "version_minor": 0
      },
      "text/plain": [
       "Button(description='Check Answers', style=ButtonStyle())"
      ]
     },
     "metadata": {},
     "output_type": "display_data"
    },
    {
     "data": {
      "application/vnd.jupyter.widget-view+json": {
       "model_id": "cfeab87a698c44d3b95d68ee08da8728",
       "version_major": 2,
       "version_minor": 0
      },
      "text/plain": [
       "Output()"
      ]
     },
     "metadata": {},
     "output_type": "display_data"
    }
   ],
   "source": [
    "import ipywidgets as widgets\n",
    "from IPython.display import display, clear_output\n",
    "\n",
    "# Create dropdown widgets for matching\n",
    "string_widget = widgets.Dropdown(\n",
    "    options=['', 'Nominal', 'Ordinal', 'Interval and Ratio', 'Cyclic'],\n",
    "    value='',\n",
    "    description='String:'\n",
    ")\n",
    "\n",
    "integer_widget = widgets.Dropdown(\n",
    "    options=['', 'Nominal', 'Ordinal', 'Interval and Ratio', 'Cyclic'],\n",
    "    value='',\n",
    "    description='Integer:'\n",
    ")\n",
    "\n",
    "float_widget = widgets.Dropdown(\n",
    "    options=['', 'Nominal', 'Ordinal', 'Interval and Ratio', 'Cyclic'],\n",
    "    value='',\n",
    "    description='Float:'\n",
    ")\n",
    "\n",
    "boolean_widget = widgets.Dropdown(\n",
    "    options=['', 'Nominal', 'Ordinal', 'Interval and Ratio', 'Cyclic'],\n",
    "    value='',\n",
    "    description='Boolean:'\n",
    ")\n",
    "\n",
    "date_widget = widgets.Dropdown(\n",
    "    options=['', 'Nominal', 'Ordinal', 'Interval and Ratio', 'Cyclic'],\n",
    "    value='',\n",
    "    description='Date'\n",
    ")\n",
    "\n",
    "# Button to check answers\n",
    "check_button = widgets.Button(description=\"Check Answers\")\n",
    "\n",
    "# Output widget to display result\n",
    "output = widgets.Output()\n",
    "\n",
    "# Logic to check answers\n",
    "def check_answers(button):\n",
    "    with output:\n",
    "        clear_output()\n",
    "        if (string_widget.value == \"Nominal\" and \n",
    "            integer_widget.value == \"Interval and Ratio\" and \n",
    "            float_widget.value == \"Interval and Ratio\" and \n",
    "            boolean_widget.value == \"Nominal\" and \n",
    "            date_widget.value == \"Cyclic\"):\n",
    "            print(\"Correct! Well done!\")\n",
    "        elif (string_widget.value == \"Nominal\" and \n",
    "            integer_widget.value == \"Ordinal\" and \n",
    "            float_widget.value == \"Interval and Ratio\" and \n",
    "            boolean_widget.value == \"Nominal\" and \n",
    "            date_widget.value == \"Cyclic\"):\n",
    "            print(\"Correct! Well done!\")\n",
    "        else:\n",
    "            print(\"Try again. Review the matches and make sure they align with the explanations provided.\")\n",
    "\n",
    "check_button.on_click(check_answers)\n",
    "\n",
    "# Display the widgets\n",
    "display(string_widget, integer_widget, float_widget, boolean_widget, date_widget, check_button, output)"
   ]
  },
  {
   "cell_type": "markdown",
   "metadata": {},
   "source": [
    "#### Now, lets work with some data"
   ]
  },
  {
   "cell_type": "code",
   "execution_count": 10,
   "metadata": {},
   "outputs": [
    {
     "data": {
      "text/html": [
       "<div>\n",
       "<style scoped>\n",
       "    .dataframe tbody tr th:only-of-type {\n",
       "        vertical-align: middle;\n",
       "    }\n",
       "\n",
       "    .dataframe tbody tr th {\n",
       "        vertical-align: top;\n",
       "    }\n",
       "\n",
       "    .dataframe thead th {\n",
       "        text-align: right;\n",
       "    }\n",
       "</style>\n",
       "<table border=\"1\" class=\"dataframe\">\n",
       "  <thead>\n",
       "    <tr style=\"text-align: right;\">\n",
       "      <th></th>\n",
       "      <th>City Name</th>\n",
       "      <th>Latitude</th>\n",
       "      <th>Longitude</th>\n",
       "      <th>Population</th>\n",
       "      <th>Is Coastal</th>\n",
       "    </tr>\n",
       "  </thead>\n",
       "  <tbody>\n",
       "    <tr>\n",
       "      <th>0</th>\n",
       "      <td>San Francisco</td>\n",
       "      <td>37.7749</td>\n",
       "      <td>-122.4194</td>\n",
       "      <td>883305</td>\n",
       "      <td>True</td>\n",
       "    </tr>\n",
       "    <tr>\n",
       "      <th>1</th>\n",
       "      <td>Los Angeles</td>\n",
       "      <td>34.0522</td>\n",
       "      <td>-118.2437</td>\n",
       "      <td>3792621</td>\n",
       "      <td>True</td>\n",
       "    </tr>\n",
       "    <tr>\n",
       "      <th>2</th>\n",
       "      <td>New York</td>\n",
       "      <td>40.7128</td>\n",
       "      <td>-74.0060</td>\n",
       "      <td>8175133</td>\n",
       "      <td>True</td>\n",
       "    </tr>\n",
       "    <tr>\n",
       "      <th>3</th>\n",
       "      <td>Chicago</td>\n",
       "      <td>41.8781</td>\n",
       "      <td>-87.6298</td>\n",
       "      <td>2695598</td>\n",
       "      <td>False</td>\n",
       "    </tr>\n",
       "    <tr>\n",
       "      <th>4</th>\n",
       "      <td>Houston</td>\n",
       "      <td>29.7604</td>\n",
       "      <td>-95.3698</td>\n",
       "      <td>2129784</td>\n",
       "      <td>False</td>\n",
       "    </tr>\n",
       "    <tr>\n",
       "      <th>5</th>\n",
       "      <td>Phoenix</td>\n",
       "      <td>33.4484</td>\n",
       "      <td>-112.0740</td>\n",
       "      <td>1660272</td>\n",
       "      <td>False</td>\n",
       "    </tr>\n",
       "    <tr>\n",
       "      <th>6</th>\n",
       "      <td>Philadelphia</td>\n",
       "      <td>39.9526</td>\n",
       "      <td>-75.1652</td>\n",
       "      <td>1526006</td>\n",
       "      <td>True</td>\n",
       "    </tr>\n",
       "  </tbody>\n",
       "</table>\n",
       "</div>"
      ],
      "text/plain": [
       "       City Name  Latitude  Longitude  Population  Is Coastal\n",
       "0  San Francisco   37.7749  -122.4194      883305        True\n",
       "1    Los Angeles   34.0522  -118.2437     3792621        True\n",
       "2       New York   40.7128   -74.0060     8175133        True\n",
       "3        Chicago   41.8781   -87.6298     2695598       False\n",
       "4        Houston   29.7604   -95.3698     2129784       False\n",
       "5        Phoenix   33.4484  -112.0740     1660272       False\n",
       "6   Philadelphia   39.9526   -75.1652     1526006        True"
      ]
     },
     "execution_count": 10,
     "metadata": {},
     "output_type": "execute_result"
    }
   ],
   "source": [
    "# Creating a DataFrame with cities, their latitudes, longitudes, populations, and coastal information\n",
    "\n",
    "import pandas as pd\n",
    "\n",
    "cities_data = {\n",
    "    \"City Name\": [\"San Francisco\", \"Los Angeles\", \"New York\", \"Chicago\", \"Houston\", \"Phoenix\", \"Philadelphia\"],\n",
    "    \"Latitude\": [37.7749, 34.0522, 40.7128, 41.8781, 29.7604, 33.4484, 39.9526],\n",
    "    \"Longitude\": [-122.4194, -118.2437, -74.0060, -87.6298, -95.3698, -112.0740, -75.1652],\n",
    "    \"Population\": [883305, 3792621, 8175133, 2695598, 2129784, 1660272, 1526006],\n",
    "    \"Is Coastal\": [True, True, True, False, False, False, True]\n",
    "}\n",
    "\n",
    "cities_df = pd.DataFrame(cities_data)\n",
    "cities_df"
   ]
  },
  {
   "cell_type": "code",
   "execution_count": 21,
   "metadata": {},
   "outputs": [],
   "source": [
    "cities_df.to_csv(\"cities.csv\", index=False)"
   ]
  },
  {
   "cell_type": "markdown",
   "metadata": {},
   "source": [
    "### Now, create a map in ArcGIS Online notebooks and add these data as points"
   ]
  },
  {
   "cell_type": "code",
   "execution_count": 23,
   "metadata": {},
   "outputs": [],
   "source": [
    "example_map = gis.map(\"USA\")"
   ]
  },
  {
   "cell_type": "code",
   "execution_count": 24,
   "metadata": {},
   "outputs": [
    {
     "data": {
      "application/vnd.jupyter.widget-view+json": {
       "model_id": "a036be4d731946c8a1a4b9c031d8fc94",
       "version_major": 2,
       "version_minor": 0
      },
      "text/plain": [
       "MapView(layout=Layout(height='400px', width='100%'))"
      ]
     },
     "metadata": {},
     "output_type": "display_data"
    },
    {
     "data": {
      "text/html": [
       "<div class=\"map-static-img-preview-a6a90127-2008-442b-be9f-9f00eec88ca4\"><img src=\"\"></img></div>"
      ],
      "text/plain": [
       "<IPython.core.display.HTML object>"
      ]
     },
     "metadata": {},
     "output_type": "display_data"
    },
    {
     "data": {
      "text/html": [
       "<div class=\"map-html-embed-preview-a6a90127-2008-442b-be9f-9f00eec88ca4\"></div>"
      ],
      "text/plain": [
       "<IPython.core.display.HTML object>"
      ]
     },
     "metadata": {},
     "output_type": "display_data"
    }
   ],
   "source": [
    "example_map"
   ]
  },
  {
   "cell_type": "code",
   "execution_count": 25,
   "metadata": {},
   "outputs": [],
   "source": [
    "# Convert your example data from a dataframe to a spatial dataframe (with formatted SHAPE column)\n",
    "\n",
    "sdf = pd.DataFrame.spatial.from_xy(cities_df, \"X\", \"Y\", sr=4326)"
   ]
  },
  {
   "cell_type": "code",
   "execution_count": 26,
   "metadata": {},
   "outputs": [
    {
     "data": {
      "text/html": [
       "<div>\n",
       "<style scoped>\n",
       "    .dataframe tbody tr th:only-of-type {\n",
       "        vertical-align: middle;\n",
       "    }\n",
       "\n",
       "    .dataframe tbody tr th {\n",
       "        vertical-align: top;\n",
       "    }\n",
       "\n",
       "    .dataframe thead th {\n",
       "        text-align: right;\n",
       "    }\n",
       "</style>\n",
       "<table border=\"1\" class=\"dataframe\">\n",
       "  <thead>\n",
       "    <tr style=\"text-align: right;\">\n",
       "      <th></th>\n",
       "      <th>City Name</th>\n",
       "      <th>Latitude</th>\n",
       "      <th>Longitude</th>\n",
       "      <th>Population</th>\n",
       "      <th>Is Coastal</th>\n",
       "      <th>SHAPE</th>\n",
       "    </tr>\n",
       "  </thead>\n",
       "  <tbody>\n",
       "    <tr>\n",
       "      <th>0</th>\n",
       "      <td>San Francisco</td>\n",
       "      <td>37.7749</td>\n",
       "      <td>-122.4194</td>\n",
       "      <td>883305</td>\n",
       "      <td>True</td>\n",
       "      <td>{\"spatialReference\": {\"wkid\": 4326}, \"x\": -122...</td>\n",
       "    </tr>\n",
       "    <tr>\n",
       "      <th>1</th>\n",
       "      <td>Los Angeles</td>\n",
       "      <td>34.0522</td>\n",
       "      <td>-118.2437</td>\n",
       "      <td>3792621</td>\n",
       "      <td>True</td>\n",
       "      <td>{\"spatialReference\": {\"wkid\": 4326}, \"x\": -118...</td>\n",
       "    </tr>\n",
       "    <tr>\n",
       "      <th>2</th>\n",
       "      <td>New York</td>\n",
       "      <td>40.7128</td>\n",
       "      <td>-74.0060</td>\n",
       "      <td>8175133</td>\n",
       "      <td>True</td>\n",
       "      <td>{\"spatialReference\": {\"wkid\": 4326}, \"x\": -74....</td>\n",
       "    </tr>\n",
       "    <tr>\n",
       "      <th>3</th>\n",
       "      <td>Chicago</td>\n",
       "      <td>41.8781</td>\n",
       "      <td>-87.6298</td>\n",
       "      <td>2695598</td>\n",
       "      <td>False</td>\n",
       "      <td>{\"spatialReference\": {\"wkid\": 4326}, \"x\": -87....</td>\n",
       "    </tr>\n",
       "    <tr>\n",
       "      <th>4</th>\n",
       "      <td>Houston</td>\n",
       "      <td>29.7604</td>\n",
       "      <td>-95.3698</td>\n",
       "      <td>2129784</td>\n",
       "      <td>False</td>\n",
       "      <td>{\"spatialReference\": {\"wkid\": 4326}, \"x\": -95....</td>\n",
       "    </tr>\n",
       "  </tbody>\n",
       "</table>\n",
       "</div>"
      ],
      "text/plain": [
       "       City Name  Latitude  Longitude  Population  Is Coastal  \\\n",
       "0  San Francisco   37.7749  -122.4194      883305        True   \n",
       "1    Los Angeles   34.0522  -118.2437     3792621        True   \n",
       "2       New York   40.7128   -74.0060     8175133        True   \n",
       "3        Chicago   41.8781   -87.6298     2695598       False   \n",
       "4        Houston   29.7604   -95.3698     2129784       False   \n",
       "\n",
       "                                               SHAPE  \n",
       "0  {\"spatialReference\": {\"wkid\": 4326}, \"x\": -122...  \n",
       "1  {\"spatialReference\": {\"wkid\": 4326}, \"x\": -118...  \n",
       "2  {\"spatialReference\": {\"wkid\": 4326}, \"x\": -74....  \n",
       "3  {\"spatialReference\": {\"wkid\": 4326}, \"x\": -87....  \n",
       "4  {\"spatialReference\": {\"wkid\": 4326}, \"x\": -95....  "
      ]
     },
     "execution_count": 26,
     "metadata": {},
     "output_type": "execute_result"
    }
   ],
   "source": [
    "sdf.head()"
   ]
  },
  {
   "cell_type": "code",
   "execution_count": 27,
   "metadata": {},
   "outputs": [],
   "source": [
    "# Convert spatial dataframe to feature layer for mapping in ArcGIS Online\n",
    "\n",
    "fl = sdf.spatial.to_featurelayer()"
   ]
  },
  {
   "cell_type": "code",
   "execution_count": 28,
   "metadata": {},
   "outputs": [],
   "source": [
    "example_map.add_layer(fl)"
   ]
  },
  {
   "cell_type": "code",
   "execution_count": 29,
   "metadata": {},
   "outputs": [
    {
     "data": {
      "application/vnd.jupyter.widget-view+json": {
       "model_id": "a036be4d731946c8a1a4b9c031d8fc94",
       "version_major": 2,
       "version_minor": 0
      },
      "text/plain": [
       "MapView(jupyter_target='notebook', layout=Layout(height='400px', width='100%'), ready=True)"
      ]
     },
     "metadata": {},
     "output_type": "display_data"
    },
    {
     "data": {
      "text/html": [
       "<div class=\"map-static-img-preview-a6a90127-2008-442b-be9f-9f00eec88ca4\"><img src=\"\"></img></div>"
      ],
      "text/plain": [
       "<IPython.core.display.HTML object>"
      ]
     },
     "metadata": {},
     "output_type": "display_data"
    },
    {
     "data": {
      "text/html": [
       "<div class=\"map-html-embed-preview-a6a90127-2008-442b-be9f-9f00eec88ca4\"></div>"
      ],
      "text/plain": [
       "<IPython.core.display.HTML object>"
      ]
     },
     "metadata": {},
     "output_type": "display_data"
    }
   ],
   "source": [
    "example_map"
   ]
  }
 ],
 "metadata": {
  "esriNotebookRuntime": {
   "notebookRuntimeName": "ArcGIS Notebook Python 3 Standard",
   "notebookRuntimeVersion": "8.0"
  },
  "kernelspec": {
   "display_name": "Python 3 (ipykernel)",
   "language": "python",
   "name": "python3"
  },
  "language_info": {
   "codemirror_mode": {
    "name": "ipython",
    "version": 3
   },
   "file_extension": ".py",
   "mimetype": "text/x-python",
   "name": "python",
   "nbconvert_exporter": "python",
   "pygments_lexer": "ipython3",
   "version": "3.9.16"
  }
 },
 "nbformat": 4,
 "nbformat_minor": 2
}
