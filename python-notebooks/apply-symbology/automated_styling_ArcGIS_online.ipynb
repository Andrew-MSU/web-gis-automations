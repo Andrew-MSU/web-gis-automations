{
 "cells": [
  {
   "cell_type": "markdown",
   "metadata": {},
   "source": [
    "# Automated Styling in ArcGIS Online\n",
    "\n",
    "This notebook demonstrates how to interact with ArcGIS Online services to automate data styling based on existing web map configurations."
   ]
  },
  {
   "cell_type": "code",
   "execution_count": null,
   "metadata": {},
   "outputs": [],
   "source": [
    "from arcgis.gis import GIS\n",
    "from arcgis.features import FeatureLayer, FeatureLayerCollection\n",
    "from arcgis.mapping import WebMap\n",
    "\n",
    "# Connect to ArcGIS Online\n",
    "gis = GIS(\"URL_TO_YOUR_ARCGIS\", \"YOUR_USERNAME\", \"YOUR_PASSWORD\")"
   ]
  },
  {
   "cell_type": "code",
   "execution_count": null,
   "metadata": {},
   "outputs": [],
   "source": [
    "# Get the web map item\n",
    "web_map_item = gis.content.get('ITEM_ID_OF_YOUR_WEB_MAP')\n",
    "web_map = WebMap(web_map_item)\n",
    "\n",
    "# Find the layer you're interested in\n",
    "source_layer = None\n",
    "for layer in web_map.layers:\n",
    "    if layer['title'] == 'LAYER_TITLE_TO_MATCH':\n",
    "        source_layer = layer\n",
    "        break\n",
    "\n",
    "if not source_layer:\n",
    "    raise Exception(\"Couldn't find the source layer in the web map\")"
   ]
  },
  {
   "cell_type": "code",
   "execution_count": null,
   "metadata": {},
   "outputs": [],
   "source": [
    "# Get the rendering info\n",
    "drawing_info = source_layer['layerDefinition']['drawingInfo']"
   ]
  },
  {
   "cell_type": "code",
   "execution_count": null,
   "metadata": {},
   "outputs": [],
   "source": [
    "# Your target feature layer where you want to apply the styling\n",
    "target_layer_item = gis.content.get(\"ITEM_ID_OF_TARGET_FEATURE_LAYER\")\n",
    "target_flc = FeatureLayerCollection.fromitem(target_layer_item)\n",
    "\n",
    "# Assuming the first layer in the collection is the one you want to update\n",
    "target_flc_l = target_flc.layers[0]\n",
    "\n",
    "# Prepare update dictionary\n",
    "update_dict = {\n",
    "    \"drawingInfo\": drawing_info\n",
    "}\n",
    "\n",
    "# Update the layer definition\n",
    "update_result = target_flc_l.manager.update_definition(update_dict)\n",
    "print(update_result)"
   ]
  },
  {
   "cell_type": "code",
   "execution_count": null,
   "metadata": {},
   "outputs": [],
   "source": [
    "# Notebook metadata for reproducibility\n",
    "%load_ext watermark\n",
    "%watermark -v -m -p arcgis,jupyter"
   ]
  }
 ],
 "metadata": {
  "kernelspec": {
   "display_name": "Python 3",
   "language": "python",
   "name": "python3"
  },
  "language_info": {
   "codemirror_mode": {
    "name": "ipython",
    "version": 3
   },
   "file_extension": ".py",
   "mimetype": "text/x-python",
   "name": "python",
   "nbconvert_exporter": "python",
   "pygments_lexer": "ipython3",
   "version": "3.9.16"
  }
 },
 "nbformat": 4,
 "nbformat_minor": 2
}
