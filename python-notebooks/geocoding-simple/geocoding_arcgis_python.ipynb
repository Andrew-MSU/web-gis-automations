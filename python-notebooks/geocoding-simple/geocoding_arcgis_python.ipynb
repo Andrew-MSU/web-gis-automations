{
 "cells": [
  {
   "cell_type": "markdown",
   "metadata": {},
   "source": [
    "## Example Geocoding in Python\n"
   ]
  },
  {
   "cell_type": "markdown",
   "metadata": {},
   "source": [
    "#### Run this cell to connect to your GIS and get started:"
   ]
  },
  {
   "cell_type": "code",
   "execution_count": 3,
   "metadata": {},
   "outputs": [],
   "source": [
    "from arcgis.gis import GIS\n",
    "gis = GIS(\"home\")"
   ]
  },
  {
   "cell_type": "markdown",
   "metadata": {},
   "source": [
    "#### Now you are ready to start!"
   ]
  },
  {
   "cell_type": "code",
   "execution_count": 4,
   "metadata": {},
   "outputs": [
    {
     "name": "stdout",
     "output_type": "stream",
     "text": [
      "Address: 1600 Pennsylvania Ave NW, Washington, District of Columbia, 20500\n",
      "Location: {'x': -77.036544986552, 'y': 38.898746817791}\n",
      "Score: 100\n"
     ]
    }
   ],
   "source": [
    "from arcgis.gis import GIS\n",
    "from arcgis.geocoding import geocode\n",
    "\n",
    "# Address to be geocoded\n",
    "address = \"1600 Pennsylvania Ave NW, Washington, DC 20500\"\n",
    "\n",
    "# Geocode the address\n",
    "results = geocode(address)\n",
    "\n",
    "# Check if any results are returned\n",
    "if results:\n",
    "    # The first result is usually the most accurate\n",
    "    location = results[0]\n",
    "    \n",
    "    # Print the details of the geocoded location\n",
    "    print(\"Address:\", location['address'])\n",
    "    print(\"Location:\", location['location'])\n",
    "    print(\"Score:\", location['score'])\n",
    "else:\n",
    "    print(\"No results found.\")"
   ]
  },
  {
   "cell_type": "code",
   "execution_count": 5,
   "metadata": {},
   "outputs": [
    {
     "data": {
      "text/plain": [
       "[{'address': '1600 Pennsylvania Ave NW, Washington, District of Columbia, 20500',\n",
       "  'location': {'x': -77.036544986552, 'y': 38.898746817791},\n",
       "  'score': 100,\n",
       "  'attributes': {'Loc_name': 'World',\n",
       "   'Status': 'M',\n",
       "   'Score': 100,\n",
       "   'Match_addr': '1600 Pennsylvania Ave NW, Washington, District of Columbia, 20500',\n",
       "   'LongLabel': '1600 Pennsylvania Ave NW, Washington, DC, 20500, USA',\n",
       "   'ShortLabel': '1600 Pennsylvania Ave NW',\n",
       "   'Addr_type': 'PointAddress',\n",
       "   'Type': '',\n",
       "   'PlaceName': '',\n",
       "   'Place_addr': '1600 Pennsylvania Ave NW, Washington, District of Columbia, 20500',\n",
       "   'Phone': '',\n",
       "   'URL': '',\n",
       "   'Rank': 20,\n",
       "   'AddBldg': '',\n",
       "   'AddNum': '1600',\n",
       "   'AddNumFrom': '',\n",
       "   'AddNumTo': '',\n",
       "   'AddRange': '',\n",
       "   'Side': '',\n",
       "   'StPreDir': '',\n",
       "   'StPreType': '',\n",
       "   'StName': 'Pennsylvania',\n",
       "   'StType': 'Ave',\n",
       "   'StDir': 'NW',\n",
       "   'BldgType': '',\n",
       "   'BldgName': '',\n",
       "   'LevelType': '',\n",
       "   'LevelName': '',\n",
       "   'UnitType': '',\n",
       "   'UnitName': '',\n",
       "   'SubAddr': '',\n",
       "   'StAddr': '1600 Pennsylvania Ave NW',\n",
       "   'Block': '',\n",
       "   'Sector': '',\n",
       "   'Nbrhd': '',\n",
       "   'District': '',\n",
       "   'City': 'Washington',\n",
       "   'MetroArea': '',\n",
       "   'Subregion': 'District of Columbia',\n",
       "   'Region': 'District of Columbia',\n",
       "   'RegionAbbr': 'DC',\n",
       "   'Territory': '',\n",
       "   'Zone': '',\n",
       "   'Postal': '20500',\n",
       "   'PostalExt': '',\n",
       "   'Country': 'USA',\n",
       "   'CntryName': 'United States',\n",
       "   'LangCode': 'ENG',\n",
       "   'Distance': 0,\n",
       "   'X': -77.036544986552,\n",
       "   'Y': 38.898746817791,\n",
       "   'DisplayX': -77.036546998209,\n",
       "   'DisplayY': 38.897675107651,\n",
       "   'Xmin': -77.037546998209,\n",
       "   'Xmax': -77.035546998209,\n",
       "   'Ymin': 38.896675107651,\n",
       "   'Ymax': 38.898675107651,\n",
       "   'ExInfo': ''},\n",
       "  'extent': {'xmin': -77.037546998209,\n",
       "   'ymin': 38.896675107651,\n",
       "   'xmax': -77.035546998209,\n",
       "   'ymax': 38.898675107651}}]"
      ]
     },
     "execution_count": 5,
     "metadata": {},
     "output_type": "execute_result"
    }
   ],
   "source": [
    "results"
   ]
  },
  {
   "cell_type": "code",
   "execution_count": null,
   "metadata": {},
   "outputs": [],
   "source": []
  }
 ],
 "metadata": {
  "esriNotebookRuntime": {
   "notebookRuntimeName": "ArcGIS Notebook Python 3 Standard",
   "notebookRuntimeVersion": "10.0"
  },
  "kernelspec": {
   "display_name": "Python 3 (ipykernel)",
   "language": "python",
   "name": "python3"
  },
  "language_info": {
   "codemirror_mode": {
    "name": "ipython",
    "version": 3
   },
   "file_extension": ".py",
   "mimetype": "text/x-python",
   "name": "python",
   "nbconvert_exporter": "python",
   "pygments_lexer": "ipython3",
   "version": "3.11.8"
  }
 },
 "nbformat": 4,
 "nbformat_minor": 2
}
